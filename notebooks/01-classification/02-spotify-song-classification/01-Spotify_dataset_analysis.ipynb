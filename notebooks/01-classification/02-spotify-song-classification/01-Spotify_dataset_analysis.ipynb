{
 "cells": [
  {
   "cell_type": "markdown",
   "metadata": {},
   "source": [
    "# Detector de Reggaetones"
   ]
  },
  {
   "cell_type": "markdown",
   "metadata": {},
   "source": [
    "Como dice el título, vamos a hacer un detector de reggaetones. Para eso armamos un dataset usando\n",
    "la API de Spotify, que nos da información detallada de cada canción (documentación). Para cada\n",
    "canción se tienen los siguientes parámetros: \n",
    "* acousticness: describes the acousticness of a song (1 => high confidence the track is acoustic). It ranges from 0 to 1.\n",
    "* danceability: describes the danceability of a song (1 => high confidence the track is danceable). It ranges from 0 to 1.\n",
    "* duration_ms: the duration of the track in milliseconds.\n",
    "* energy: it's a perceptual measure of intensity and activity (e.g. death metal has high energy while classical music has low energy). It ranges from 0 to 1.\n",
    "* instrumentalness: predicts whether a track contains no vocals (1 => high confidence the track has no vocals). It ranges from 0 to 1.\n",
    "* key: describes the pitch class notation of the song. It ranges from 0 to 11.\n",
    "* liveness: detects the presence of an audience in the recording (1 => high confidence the track is live). It ranges from 0 to 1.\n",
    "* loudness: detects the overall loudness of a track in decibels. It ranges from -60dB to 0dB.\n",
    "* mode: the modality of a track (0 => minor, 1 => major).\n",
    "* speechiness: detects the presence of spoken words in a track (1 => speech, 0 => non speech, just music). It ranges from 0 to 1.\n",
    "* tempo: the overall estimated tempo of a track in beats per minute (BPM).\n",
    "* time_signature: An estimated overall time signature of a track (how many beats are in each bar or measure).\n",
    "\n",
    "Documentación: https://beta.developer.spotify.com/documentation/web-api/reference/tracks/get-audio-features/"
   ]
  },
  {
   "cell_type": "markdown",
   "metadata": {},
   "source": [
    "1. Analiza los dataset data_todotipo.csv y  data_reggaeton.csv . ¿Qué puedes decir de los datos, distribuciones, missing, etc? ¿En qué se diferencian? Entregable: texto/imágenes. **Listo**\n",
    "\n",
    "2. Consolida los dos datasets en uno solo y genera una marca para las canciones que sean reggaeton en base a los datasets. Entregable: csv con dataset y código (si es que usaste). **Listo**\n",
    "\n",
    "* Entregable: \n",
    "  ** output/P2-all_datasets.csv\n",
    "\n",
    "3. Entrena uno o varios modelos (usando el/los algoritmo(s) que prefieras) para detectar qué canciones son reggaeton. Entregable: modelo en cualquier formato y código (si es que usaste). **Listo**\n",
    "\n",
    "* Entregable: \n",
    "  ** output/P3-classification_isreggaeton_GBT.sav\n",
    "  ** output/P3-classification_isreggaeton_RANDOMFOREST.sav\n",
    "  ** output/P3-classification_isreggaeton_LR.sav\n",
    "\n",
    "4. Evalúa tu modelo. ¿Qué performance tiene? ¿Qué métricas usas para evaluar esa performance? ¿Por qué elegiste ese algoritmo en particular? ¿Cómo podrías mejorar la performance? Entregable: texto/imágenes. **Listo**\n",
    "\n",
    "5. Aplica tu modelo sobre el dataset “data_test.csv”, agregándole a cada registro dos nuevos campos: marca_reggaeton (un 1 cuando es reggaetón, un 0 cuando no lo es) y probabilidad_reggaeton (probabilidad de que la canción sea reggaeton). ¿Cómo elegiste cuáles marcar? ¿De qué depende que predigas la existencia de mayor o menor cantidad de reggaetones? Entregable: texto/imágenes. **Listo**\n",
    "\n",
    "* Entregable: \n",
    "  ** output/P5-test_dataset_classificated_GBT.csv\n",
    "  ** output/P5-test_dataset_classificated_RANDOMFOREST.csv\n",
    "  ** output/P5-test_dataset_classificated_LR.csv"
   ]
  },
  {
   "cell_type": "markdown",
   "metadata": {},
   "source": [
    "* Tiempo máximo de resolución: 2-3 horas."
   ]
  },
  {
   "cell_type": "code",
   "execution_count": 1,
   "metadata": {},
   "outputs": [
    {
     "name": "stderr",
     "output_type": "stream",
     "text": [
      "/opt/conda/lib/python3.6/site-packages/IPython/core/interactiveshell.py:2910: FutureWarning: \n",
      "mpl_style had been deprecated and will be removed in a future version.\n",
      "Use `matplotlib.pyplot.style.use` instead.\n",
      "\n",
      "  exec(code_obj, self.user_global_ns, self.user_ns)\n"
     ]
    }
   ],
   "source": [
    "import pandas as pd\n",
    "pd.set_option('display.max_columns', None)\n",
    "import numpy as np\n",
    "\n",
    "import matplotlib.pyplot as plt\n",
    "pd.options.display.mpl_style = 'default'\n",
    "%matplotlib inline\n",
    "import seaborn as sns\n",
    "sns.set_style('whitegrid')\n",
    "\n",
    "import re\n",
    "import pickle\n",
    "import time\n",
    " \n",
    "from sklearn.decomposition import PCA\n",
    "from sklearn.preprocessing import StandardScaler, LabelEncoder\n",
    " \n",
    "from sklearn.linear_model import LogisticRegression\n",
    "from sklearn.svm import SVC\n",
    "from sklearn.neighbors import KNeighborsClassifier\n",
    "from sklearn import tree\n",
    "from sklearn.neural_network import MLPClassifier\n",
    "from sklearn.neighbors import KNeighborsClassifier\n",
    "from sklearn.ensemble import GradientBoostingClassifier\n",
    "from sklearn.gaussian_process.kernels import RBF\n",
    "from sklearn.ensemble import RandomForestClassifier\n",
    "from sklearn.naive_bayes import GaussianNB\n",
    "from sklearn import metrics"
   ]
  },
  {
   "cell_type": "markdown",
   "metadata": {},
   "source": [
    "## 01- Exploración de datos"
   ]
  },
  {
   "cell_type": "markdown",
   "metadata": {},
   "source": [
    "* Para partir se realiza una exploración de datos. En primer lugar, se cargan los 3 datasets entregados en una estructura de dato DataFrame la cual es cargada en memoria."
   ]
  },
  {
   "cell_type": "code",
   "execution_count": 2,
   "metadata": {},
   "outputs": [],
   "source": [
    "df_all_types = pd.read_csv('input/data_todotipo.csv', index_col=0)\n",
    "df_only_reggaeton = pd.read_csv('input/data_reggaeton.csv', index_col=0)\n",
    "df_test = pd.read_csv('input/data_test.csv', index_col=0)"
   ]
  },
  {
   "cell_type": "markdown",
   "metadata": {},
   "source": [
    "* Verificando el contenido de los dataset cargados como DataFrames"
   ]
  },
  {
   "cell_type": "code",
   "execution_count": 3,
   "metadata": {},
   "outputs": [
    {
     "data": {
      "text/html": [
       "<div>\n",
       "<table border=\"1\" class=\"dataframe\">\n",
       "  <thead>\n",
       "    <tr style=\"text-align: right;\">\n",
       "      <th></th>\n",
       "      <th>popularity</th>\n",
       "      <th>danceability</th>\n",
       "      <th>energy</th>\n",
       "      <th>key</th>\n",
       "      <th>loudness</th>\n",
       "      <th>mode</th>\n",
       "      <th>speechiness</th>\n",
       "      <th>acousticness</th>\n",
       "      <th>instrumentalness</th>\n",
       "      <th>liveness</th>\n",
       "      <th>valence</th>\n",
       "      <th>tempo</th>\n",
       "      <th>duration</th>\n",
       "      <th>id_new</th>\n",
       "    </tr>\n",
       "  </thead>\n",
       "  <tbody>\n",
       "    <tr>\n",
       "      <th>1</th>\n",
       "      <td>68</td>\n",
       "      <td>0.826</td>\n",
       "      <td>0.704</td>\n",
       "      <td>9</td>\n",
       "      <td>-7.527</td>\n",
       "      <td>1</td>\n",
       "      <td>0.1170</td>\n",
       "      <td>0.1890</td>\n",
       "      <td>0.000048</td>\n",
       "      <td>0.0617</td>\n",
       "      <td>0.741</td>\n",
       "      <td>94.013</td>\n",
       "      <td>205000</td>\n",
       "      <td>1</td>\n",
       "    </tr>\n",
       "    <tr>\n",
       "      <th>2</th>\n",
       "      <td>61</td>\n",
       "      <td>0.641</td>\n",
       "      <td>0.693</td>\n",
       "      <td>8</td>\n",
       "      <td>-7.327</td>\n",
       "      <td>1</td>\n",
       "      <td>0.1630</td>\n",
       "      <td>0.0169</td>\n",
       "      <td>0.000000</td>\n",
       "      <td>0.2190</td>\n",
       "      <td>0.899</td>\n",
       "      <td>214.058</td>\n",
       "      <td>184413</td>\n",
       "      <td>2</td>\n",
       "    </tr>\n",
       "    <tr>\n",
       "      <th>3</th>\n",
       "      <td>67</td>\n",
       "      <td>0.771</td>\n",
       "      <td>0.815</td>\n",
       "      <td>1</td>\n",
       "      <td>-5.423</td>\n",
       "      <td>0</td>\n",
       "      <td>0.0719</td>\n",
       "      <td>0.1610</td>\n",
       "      <td>0.000020</td>\n",
       "      <td>0.1890</td>\n",
       "      <td>0.524</td>\n",
       "      <td>94.016</td>\n",
       "      <td>205520</td>\n",
       "      <td>3</td>\n",
       "    </tr>\n",
       "    <tr>\n",
       "      <th>4</th>\n",
       "      <td>63</td>\n",
       "      <td>0.743</td>\n",
       "      <td>0.787</td>\n",
       "      <td>1</td>\n",
       "      <td>-5.402</td>\n",
       "      <td>1</td>\n",
       "      <td>0.2620</td>\n",
       "      <td>0.0352</td>\n",
       "      <td>0.000000</td>\n",
       "      <td>0.0732</td>\n",
       "      <td>0.719</td>\n",
       "      <td>192.117</td>\n",
       "      <td>172680</td>\n",
       "      <td>4</td>\n",
       "    </tr>\n",
       "    <tr>\n",
       "      <th>5</th>\n",
       "      <td>63</td>\n",
       "      <td>0.876</td>\n",
       "      <td>0.692</td>\n",
       "      <td>10</td>\n",
       "      <td>-6.429</td>\n",
       "      <td>1</td>\n",
       "      <td>0.1040</td>\n",
       "      <td>0.1280</td>\n",
       "      <td>0.000000</td>\n",
       "      <td>0.2490</td>\n",
       "      <td>0.757</td>\n",
       "      <td>95.032</td>\n",
       "      <td>227280</td>\n",
       "      <td>5</td>\n",
       "    </tr>\n",
       "  </tbody>\n",
       "</table>\n",
       "</div>"
      ],
      "text/plain": [
       "   popularity  danceability  energy  key  loudness  mode  speechiness  \\\n",
       "1          68         0.826   0.704    9    -7.527     1       0.1170   \n",
       "2          61         0.641   0.693    8    -7.327     1       0.1630   \n",
       "3          67         0.771   0.815    1    -5.423     0       0.0719   \n",
       "4          63         0.743   0.787    1    -5.402     1       0.2620   \n",
       "5          63         0.876   0.692   10    -6.429     1       0.1040   \n",
       "\n",
       "   acousticness  instrumentalness  liveness  valence    tempo  duration  \\\n",
       "1        0.1890          0.000048    0.0617    0.741   94.013    205000   \n",
       "2        0.0169          0.000000    0.2190    0.899  214.058    184413   \n",
       "3        0.1610          0.000020    0.1890    0.524   94.016    205520   \n",
       "4        0.0352          0.000000    0.0732    0.719  192.117    172680   \n",
       "5        0.1280          0.000000    0.2490    0.757   95.032    227280   \n",
       "\n",
       "   id_new  \n",
       "1       1  \n",
       "2       2  \n",
       "3       3  \n",
       "4       4  \n",
       "5       5  "
      ]
     },
     "execution_count": 3,
     "metadata": {},
     "output_type": "execute_result"
    }
   ],
   "source": [
    "df_only_reggaeton.head()"
   ]
  },
  {
   "cell_type": "markdown",
   "metadata": {},
   "source": [
    "* Estadistica descriptiva para el dataset data_todotipo alojado en el DataFrame df_all_types"
   ]
  },
  {
   "cell_type": "code",
   "execution_count": 4,
   "metadata": {},
   "outputs": [
    {
     "data": {
      "text/html": [
       "<div>\n",
       "<table border=\"1\" class=\"dataframe\">\n",
       "  <thead>\n",
       "    <tr style=\"text-align: right;\">\n",
       "      <th></th>\n",
       "      <th>popularity</th>\n",
       "      <th>danceability</th>\n",
       "      <th>energy</th>\n",
       "      <th>key</th>\n",
       "      <th>loudness</th>\n",
       "      <th>mode</th>\n",
       "      <th>speechiness</th>\n",
       "      <th>acousticness</th>\n",
       "      <th>instrumentalness</th>\n",
       "      <th>liveness</th>\n",
       "      <th>valence</th>\n",
       "      <th>tempo</th>\n",
       "      <th>duration</th>\n",
       "      <th>time_signature</th>\n",
       "      <th>id_new</th>\n",
       "    </tr>\n",
       "  </thead>\n",
       "  <tbody>\n",
       "    <tr>\n",
       "      <th>count</th>\n",
       "      <td>2229.000000</td>\n",
       "      <td>2222.000000</td>\n",
       "      <td>2222.000000</td>\n",
       "      <td>2222.000000</td>\n",
       "      <td>2222.000000</td>\n",
       "      <td>2222.000000</td>\n",
       "      <td>2222.000000</td>\n",
       "      <td>2222.000000</td>\n",
       "      <td>2222.000000</td>\n",
       "      <td>2222.000000</td>\n",
       "      <td>2222.000000</td>\n",
       "      <td>2222.000000</td>\n",
       "      <td>2222.000000</td>\n",
       "      <td>2222.000000</td>\n",
       "      <td>2230.000000</td>\n",
       "    </tr>\n",
       "    <tr>\n",
       "      <th>mean</th>\n",
       "      <td>51.938537</td>\n",
       "      <td>0.566439</td>\n",
       "      <td>0.607263</td>\n",
       "      <td>5.175518</td>\n",
       "      <td>-9.641344</td>\n",
       "      <td>0.596760</td>\n",
       "      <td>0.067720</td>\n",
       "      <td>0.346486</td>\n",
       "      <td>0.215211</td>\n",
       "      <td>0.179627</td>\n",
       "      <td>0.530849</td>\n",
       "      <td>118.338830</td>\n",
       "      <td>233872.923042</td>\n",
       "      <td>3.902790</td>\n",
       "      <td>1185.500000</td>\n",
       "    </tr>\n",
       "    <tr>\n",
       "      <th>std</th>\n",
       "      <td>17.640772</td>\n",
       "      <td>0.165887</td>\n",
       "      <td>0.282298</td>\n",
       "      <td>3.519774</td>\n",
       "      <td>6.141384</td>\n",
       "      <td>0.490659</td>\n",
       "      <td>0.063484</td>\n",
       "      <td>0.360734</td>\n",
       "      <td>0.351567</td>\n",
       "      <td>0.154093</td>\n",
       "      <td>0.275088</td>\n",
       "      <td>28.527313</td>\n",
       "      <td>77944.498354</td>\n",
       "      <td>0.390686</td>\n",
       "      <td>643.889872</td>\n",
       "    </tr>\n",
       "    <tr>\n",
       "      <th>min</th>\n",
       "      <td>0.000000</td>\n",
       "      <td>0.062700</td>\n",
       "      <td>0.001810</td>\n",
       "      <td>0.000000</td>\n",
       "      <td>-42.117000</td>\n",
       "      <td>0.000000</td>\n",
       "      <td>0.023100</td>\n",
       "      <td>0.000002</td>\n",
       "      <td>0.000000</td>\n",
       "      <td>0.018000</td>\n",
       "      <td>0.027900</td>\n",
       "      <td>33.579000</td>\n",
       "      <td>46667.000000</td>\n",
       "      <td>1.000000</td>\n",
       "      <td>71.000000</td>\n",
       "    </tr>\n",
       "    <tr>\n",
       "      <th>25%</th>\n",
       "      <td>42.000000</td>\n",
       "      <td>0.456000</td>\n",
       "      <td>0.406250</td>\n",
       "      <td>2.000000</td>\n",
       "      <td>-11.316000</td>\n",
       "      <td>0.000000</td>\n",
       "      <td>0.035500</td>\n",
       "      <td>0.021275</td>\n",
       "      <td>0.000005</td>\n",
       "      <td>0.089600</td>\n",
       "      <td>0.298000</td>\n",
       "      <td>97.411750</td>\n",
       "      <td>187160.250000</td>\n",
       "      <td>4.000000</td>\n",
       "      <td>628.250000</td>\n",
       "    </tr>\n",
       "    <tr>\n",
       "      <th>50%</th>\n",
       "      <td>56.000000</td>\n",
       "      <td>0.579000</td>\n",
       "      <td>0.671000</td>\n",
       "      <td>5.000000</td>\n",
       "      <td>-8.017500</td>\n",
       "      <td>1.000000</td>\n",
       "      <td>0.045700</td>\n",
       "      <td>0.189000</td>\n",
       "      <td>0.001660</td>\n",
       "      <td>0.118500</td>\n",
       "      <td>0.538500</td>\n",
       "      <td>117.947000</td>\n",
       "      <td>225257.000000</td>\n",
       "      <td>4.000000</td>\n",
       "      <td>1185.500000</td>\n",
       "    </tr>\n",
       "    <tr>\n",
       "      <th>75%</th>\n",
       "      <td>64.000000</td>\n",
       "      <td>0.690750</td>\n",
       "      <td>0.847000</td>\n",
       "      <td>8.000000</td>\n",
       "      <td>-5.699000</td>\n",
       "      <td>1.000000</td>\n",
       "      <td>0.069900</td>\n",
       "      <td>0.667250</td>\n",
       "      <td>0.328750</td>\n",
       "      <td>0.217750</td>\n",
       "      <td>0.767000</td>\n",
       "      <td>133.873250</td>\n",
       "      <td>272177.000000</td>\n",
       "      <td>4.000000</td>\n",
       "      <td>1742.750000</td>\n",
       "    </tr>\n",
       "    <tr>\n",
       "      <th>max</th>\n",
       "      <td>98.000000</td>\n",
       "      <td>0.942000</td>\n",
       "      <td>0.998000</td>\n",
       "      <td>11.000000</td>\n",
       "      <td>-0.282000</td>\n",
       "      <td>1.000000</td>\n",
       "      <td>0.668000</td>\n",
       "      <td>0.996000</td>\n",
       "      <td>0.985000</td>\n",
       "      <td>0.978000</td>\n",
       "      <td>0.982000</td>\n",
       "      <td>211.893000</td>\n",
       "      <td>768507.000000</td>\n",
       "      <td>5.000000</td>\n",
       "      <td>2300.000000</td>\n",
       "    </tr>\n",
       "  </tbody>\n",
       "</table>\n",
       "</div>"
      ],
      "text/plain": [
       "        popularity  danceability       energy          key     loudness  \\\n",
       "count  2229.000000   2222.000000  2222.000000  2222.000000  2222.000000   \n",
       "mean     51.938537      0.566439     0.607263     5.175518    -9.641344   \n",
       "std      17.640772      0.165887     0.282298     3.519774     6.141384   \n",
       "min       0.000000      0.062700     0.001810     0.000000   -42.117000   \n",
       "25%      42.000000      0.456000     0.406250     2.000000   -11.316000   \n",
       "50%      56.000000      0.579000     0.671000     5.000000    -8.017500   \n",
       "75%      64.000000      0.690750     0.847000     8.000000    -5.699000   \n",
       "max      98.000000      0.942000     0.998000    11.000000    -0.282000   \n",
       "\n",
       "              mode  speechiness  acousticness  instrumentalness     liveness  \\\n",
       "count  2222.000000  2222.000000   2222.000000       2222.000000  2222.000000   \n",
       "mean      0.596760     0.067720      0.346486          0.215211     0.179627   \n",
       "std       0.490659     0.063484      0.360734          0.351567     0.154093   \n",
       "min       0.000000     0.023100      0.000002          0.000000     0.018000   \n",
       "25%       0.000000     0.035500      0.021275          0.000005     0.089600   \n",
       "50%       1.000000     0.045700      0.189000          0.001660     0.118500   \n",
       "75%       1.000000     0.069900      0.667250          0.328750     0.217750   \n",
       "max       1.000000     0.668000      0.996000          0.985000     0.978000   \n",
       "\n",
       "           valence        tempo       duration  time_signature       id_new  \n",
       "count  2222.000000  2222.000000    2222.000000     2222.000000  2230.000000  \n",
       "mean      0.530849   118.338830  233872.923042        3.902790  1185.500000  \n",
       "std       0.275088    28.527313   77944.498354        0.390686   643.889872  \n",
       "min       0.027900    33.579000   46667.000000        1.000000    71.000000  \n",
       "25%       0.298000    97.411750  187160.250000        4.000000   628.250000  \n",
       "50%       0.538500   117.947000  225257.000000        4.000000  1185.500000  \n",
       "75%       0.767000   133.873250  272177.000000        4.000000  1742.750000  \n",
       "max       0.982000   211.893000  768507.000000        5.000000  2300.000000  "
      ]
     },
     "execution_count": 4,
     "metadata": {},
     "output_type": "execute_result"
    }
   ],
   "source": [
    "df_all_types.describe()"
   ]
  },
  {
   "cell_type": "code",
   "execution_count": 5,
   "metadata": {},
   "outputs": [
    {
     "data": {
      "text/html": [
       "<div>\n",
       "<table border=\"1\" class=\"dataframe\">\n",
       "  <thead>\n",
       "    <tr style=\"text-align: right;\">\n",
       "      <th></th>\n",
       "      <th>popularity</th>\n",
       "      <th>danceability</th>\n",
       "      <th>energy</th>\n",
       "      <th>key</th>\n",
       "      <th>loudness</th>\n",
       "      <th>mode</th>\n",
       "      <th>speechiness</th>\n",
       "      <th>acousticness</th>\n",
       "      <th>instrumentalness</th>\n",
       "      <th>liveness</th>\n",
       "      <th>valence</th>\n",
       "      <th>tempo</th>\n",
       "      <th>duration</th>\n",
       "      <th>id_new</th>\n",
       "    </tr>\n",
       "  </thead>\n",
       "  <tbody>\n",
       "    <tr>\n",
       "      <th>count</th>\n",
       "      <td>70.000000</td>\n",
       "      <td>70.000000</td>\n",
       "      <td>70.000000</td>\n",
       "      <td>70.000000</td>\n",
       "      <td>70.000000</td>\n",
       "      <td>70.000000</td>\n",
       "      <td>70.000000</td>\n",
       "      <td>70.000000</td>\n",
       "      <td>70.000000</td>\n",
       "      <td>70.000000</td>\n",
       "      <td>70.000000</td>\n",
       "      <td>70.000000</td>\n",
       "      <td>7.000000e+01</td>\n",
       "      <td>70.000000</td>\n",
       "    </tr>\n",
       "    <tr>\n",
       "      <th>mean</th>\n",
       "      <td>56.957143</td>\n",
       "      <td>0.776000</td>\n",
       "      <td>0.778171</td>\n",
       "      <td>5.600000</td>\n",
       "      <td>-6.327571</td>\n",
       "      <td>0.571429</td>\n",
       "      <td>0.120620</td>\n",
       "      <td>0.158725</td>\n",
       "      <td>0.005461</td>\n",
       "      <td>0.189397</td>\n",
       "      <td>0.702671</td>\n",
       "      <td>105.910286</td>\n",
       "      <td>2.756467e+05</td>\n",
       "      <td>35.500000</td>\n",
       "    </tr>\n",
       "    <tr>\n",
       "      <th>std</th>\n",
       "      <td>10.703427</td>\n",
       "      <td>0.080724</td>\n",
       "      <td>0.097774</td>\n",
       "      <td>3.696453</td>\n",
       "      <td>2.243060</td>\n",
       "      <td>0.498445</td>\n",
       "      <td>0.075096</td>\n",
       "      <td>0.132574</td>\n",
       "      <td>0.029874</td>\n",
       "      <td>0.128542</td>\n",
       "      <td>0.152090</td>\n",
       "      <td>28.554854</td>\n",
       "      <td>2.575437e+05</td>\n",
       "      <td>20.351085</td>\n",
       "    </tr>\n",
       "    <tr>\n",
       "      <th>min</th>\n",
       "      <td>27.000000</td>\n",
       "      <td>0.503000</td>\n",
       "      <td>0.533000</td>\n",
       "      <td>0.000000</td>\n",
       "      <td>-13.268000</td>\n",
       "      <td>0.000000</td>\n",
       "      <td>0.032000</td>\n",
       "      <td>0.001650</td>\n",
       "      <td>0.000000</td>\n",
       "      <td>0.035400</td>\n",
       "      <td>0.354000</td>\n",
       "      <td>84.012000</td>\n",
       "      <td>1.516670e+05</td>\n",
       "      <td>1.000000</td>\n",
       "    </tr>\n",
       "    <tr>\n",
       "      <th>25%</th>\n",
       "      <td>52.250000</td>\n",
       "      <td>0.743250</td>\n",
       "      <td>0.700250</td>\n",
       "      <td>1.000000</td>\n",
       "      <td>-7.128750</td>\n",
       "      <td>0.000000</td>\n",
       "      <td>0.064375</td>\n",
       "      <td>0.056025</td>\n",
       "      <td>0.000000</td>\n",
       "      <td>0.094475</td>\n",
       "      <td>0.582250</td>\n",
       "      <td>93.993500</td>\n",
       "      <td>1.964132e+05</td>\n",
       "      <td>18.250000</td>\n",
       "    </tr>\n",
       "    <tr>\n",
       "      <th>50%</th>\n",
       "      <td>59.000000</td>\n",
       "      <td>0.792000</td>\n",
       "      <td>0.790000</td>\n",
       "      <td>6.500000</td>\n",
       "      <td>-6.031000</td>\n",
       "      <td>1.000000</td>\n",
       "      <td>0.090600</td>\n",
       "      <td>0.113000</td>\n",
       "      <td>0.000001</td>\n",
       "      <td>0.141000</td>\n",
       "      <td>0.722500</td>\n",
       "      <td>95.018500</td>\n",
       "      <td>2.195305e+05</td>\n",
       "      <td>35.500000</td>\n",
       "    </tr>\n",
       "    <tr>\n",
       "      <th>75%</th>\n",
       "      <td>63.000000</td>\n",
       "      <td>0.827500</td>\n",
       "      <td>0.863500</td>\n",
       "      <td>9.000000</td>\n",
       "      <td>-4.959750</td>\n",
       "      <td>1.000000</td>\n",
       "      <td>0.161000</td>\n",
       "      <td>0.243500</td>\n",
       "      <td>0.000019</td>\n",
       "      <td>0.262500</td>\n",
       "      <td>0.830250</td>\n",
       "      <td>102.277750</td>\n",
       "      <td>2.509098e+05</td>\n",
       "      <td>52.750000</td>\n",
       "    </tr>\n",
       "    <tr>\n",
       "      <th>max</th>\n",
       "      <td>75.000000</td>\n",
       "      <td>0.944000</td>\n",
       "      <td>0.946000</td>\n",
       "      <td>11.000000</td>\n",
       "      <td>-0.262000</td>\n",
       "      <td>1.000000</td>\n",
       "      <td>0.308000</td>\n",
       "      <td>0.563000</td>\n",
       "      <td>0.243000</td>\n",
       "      <td>0.776000</td>\n",
       "      <td>0.966000</td>\n",
       "      <td>214.058000</td>\n",
       "      <td>1.499600e+06</td>\n",
       "      <td>70.000000</td>\n",
       "    </tr>\n",
       "  </tbody>\n",
       "</table>\n",
       "</div>"
      ],
      "text/plain": [
       "       popularity  danceability     energy        key   loudness       mode  \\\n",
       "count   70.000000     70.000000  70.000000  70.000000  70.000000  70.000000   \n",
       "mean    56.957143      0.776000   0.778171   5.600000  -6.327571   0.571429   \n",
       "std     10.703427      0.080724   0.097774   3.696453   2.243060   0.498445   \n",
       "min     27.000000      0.503000   0.533000   0.000000 -13.268000   0.000000   \n",
       "25%     52.250000      0.743250   0.700250   1.000000  -7.128750   0.000000   \n",
       "50%     59.000000      0.792000   0.790000   6.500000  -6.031000   1.000000   \n",
       "75%     63.000000      0.827500   0.863500   9.000000  -4.959750   1.000000   \n",
       "max     75.000000      0.944000   0.946000  11.000000  -0.262000   1.000000   \n",
       "\n",
       "       speechiness  acousticness  instrumentalness   liveness    valence  \\\n",
       "count    70.000000     70.000000         70.000000  70.000000  70.000000   \n",
       "mean      0.120620      0.158725          0.005461   0.189397   0.702671   \n",
       "std       0.075096      0.132574          0.029874   0.128542   0.152090   \n",
       "min       0.032000      0.001650          0.000000   0.035400   0.354000   \n",
       "25%       0.064375      0.056025          0.000000   0.094475   0.582250   \n",
       "50%       0.090600      0.113000          0.000001   0.141000   0.722500   \n",
       "75%       0.161000      0.243500          0.000019   0.262500   0.830250   \n",
       "max       0.308000      0.563000          0.243000   0.776000   0.966000   \n",
       "\n",
       "            tempo      duration     id_new  \n",
       "count   70.000000  7.000000e+01  70.000000  \n",
       "mean   105.910286  2.756467e+05  35.500000  \n",
       "std     28.554854  2.575437e+05  20.351085  \n",
       "min     84.012000  1.516670e+05   1.000000  \n",
       "25%     93.993500  1.964132e+05  18.250000  \n",
       "50%     95.018500  2.195305e+05  35.500000  \n",
       "75%    102.277750  2.509098e+05  52.750000  \n",
       "max    214.058000  1.499600e+06  70.000000  "
      ]
     },
     "execution_count": 5,
     "metadata": {},
     "output_type": "execute_result"
    }
   ],
   "source": [
    "df_only_reggaeton.describe()"
   ]
  },
  {
   "cell_type": "markdown",
   "metadata": {},
   "source": [
    "### 1.1- Diferencias entre los datasets"
   ]
  },
  {
   "cell_type": "markdown",
   "metadata": {},
   "source": [
    "* Se procede a buscar las diferencias entre los datasets entregados.\n",
    "* Primero, se verifica las columnas del DataFrame: df_only_reggaeton, el cual contiene el dataset: data_reggaeton.csv."
   ]
  },
  {
   "cell_type": "code",
   "execution_count": 6,
   "metadata": {},
   "outputs": [
    {
     "data": {
      "text/plain": [
       "Index(['popularity', 'danceability', 'energy', 'key', 'loudness', 'mode',\n",
       "       'speechiness', 'acousticness', 'instrumentalness', 'liveness',\n",
       "       'valence', 'tempo', 'duration', 'id_new'],\n",
       "      dtype='object')"
      ]
     },
     "execution_count": 6,
     "metadata": {},
     "output_type": "execute_result"
    }
   ],
   "source": [
    "df_only_reggaeton.columns"
   ]
  },
  {
   "cell_type": "markdown",
   "metadata": {},
   "source": [
    "* Segundo, se verifica las columnas del DataFrame: df_all_types, el cual contiene el dataset: data_todotipo.csv."
   ]
  },
  {
   "cell_type": "code",
   "execution_count": 7,
   "metadata": {},
   "outputs": [
    {
     "data": {
      "text/plain": [
       "Index(['popularity', 'danceability', 'energy', 'key', 'loudness', 'mode',\n",
       "       'speechiness', 'acousticness', 'instrumentalness', 'liveness',\n",
       "       'valence', 'tempo', 'duration', 'time_signature', 'id_new'],\n",
       "      dtype='object')"
      ]
     },
     "execution_count": 7,
     "metadata": {},
     "output_type": "execute_result"
    }
   ],
   "source": [
    "df_all_types.columns"
   ]
  },
  {
   "cell_type": "markdown",
   "metadata": {},
   "source": [
    "* Luego, se realiza la intersección de las columnas de ambos DataFrames, con el objetivo de verificar las columnas que esten en ambos DataFrames."
   ]
  },
  {
   "cell_type": "code",
   "execution_count": 8,
   "metadata": {},
   "outputs": [
    {
     "data": {
      "text/plain": [
       "Index(['popularity', 'danceability', 'energy', 'key', 'loudness', 'mode',\n",
       "       'speechiness', 'acousticness', 'instrumentalness', 'liveness',\n",
       "       'valence', 'tempo', 'duration', 'id_new'],\n",
       "      dtype='object')"
      ]
     },
     "execution_count": 8,
     "metadata": {},
     "output_type": "execute_result"
    }
   ],
   "source": [
    "df_only_reggaeton.columns.intersection(df_all_types.columns)"
   ]
  },
  {
   "cell_type": "markdown",
   "metadata": {},
   "source": [
    "* Posteriormente, se imprimen las columnas que estan en el DataFrame df_only_reggaeton pero no en el df_all_types."
   ]
  },
  {
   "cell_type": "code",
   "execution_count": 9,
   "metadata": {},
   "outputs": [
    {
     "data": {
      "text/plain": [
       "Index([], dtype='object')"
      ]
     },
     "execution_count": 9,
     "metadata": {},
     "output_type": "execute_result"
    }
   ],
   "source": [
    "df_only_reggaeton.columns.difference(df_all_types.columns)"
   ]
  },
  {
   "cell_type": "markdown",
   "metadata": {},
   "source": [
    "* Finalmente, se imprimen las columnas que estan en el DataFrame df_all_types pero no en el DataFrame df_only_reggaeton"
   ]
  },
  {
   "cell_type": "code",
   "execution_count": 10,
   "metadata": {},
   "outputs": [
    {
     "data": {
      "text/plain": [
       "Index(['time_signature'], dtype='object')"
      ]
     },
     "execution_count": 10,
     "metadata": {},
     "output_type": "execute_result"
    }
   ],
   "source": [
    "df_all_types.columns.difference(df_only_reggaeton.columns)"
   ]
  },
  {
   "cell_type": "markdown",
   "metadata": {},
   "source": [
    "* En conclusión, la columna 'time_signature' no esta presente en el dataframe df_only_reggaeton, por lo que a continuación se procede a normalizar y estandarizar el resto de los dataframes."
   ]
  },
  {
   "cell_type": "markdown",
   "metadata": {},
   "source": [
    "### 1.2- Limpieza de datos"
   ]
  },
  {
   "cell_type": "markdown",
   "metadata": {},
   "source": [
    "#### 1.2.1- Tratamiento de los valores NA/NaN"
   ]
  },
  {
   "cell_type": "markdown",
   "metadata": {},
   "source": [
    "* Para los dataframes df_only_reggaeton y df_all_types es necesario limpiar y eliminar las filas que contengan valores NA/NaN.\n",
    "* En este problema no vamos a eliminar las filas, sino que almacenarlos en dataframes con el objetivo de que en caso de necesitar estas filas ya esten almacenadas en memoria."
   ]
  },
  {
   "cell_type": "code",
   "execution_count": 11,
   "metadata": {},
   "outputs": [
    {
     "data": {
      "text/html": [
       "<div>\n",
       "<table border=\"1\" class=\"dataframe\">\n",
       "  <thead>\n",
       "    <tr style=\"text-align: right;\">\n",
       "      <th></th>\n",
       "      <th>popularity</th>\n",
       "      <th>danceability</th>\n",
       "      <th>energy</th>\n",
       "      <th>key</th>\n",
       "      <th>loudness</th>\n",
       "      <th>mode</th>\n",
       "      <th>speechiness</th>\n",
       "      <th>acousticness</th>\n",
       "      <th>instrumentalness</th>\n",
       "      <th>liveness</th>\n",
       "      <th>valence</th>\n",
       "      <th>tempo</th>\n",
       "      <th>duration</th>\n",
       "      <th>id_new</th>\n",
       "    </tr>\n",
       "  </thead>\n",
       "  <tbody>\n",
       "  </tbody>\n",
       "</table>\n",
       "</div>"
      ],
      "text/plain": [
       "Empty DataFrame\n",
       "Columns: [popularity, danceability, energy, key, loudness, mode, speechiness, acousticness, instrumentalness, liveness, valence, tempo, duration, id_new]\n",
       "Index: []"
      ]
     },
     "execution_count": 11,
     "metadata": {},
     "output_type": "execute_result"
    }
   ],
   "source": [
    "df_only_reggaeton_missing = df_only_reggaeton[df_only_reggaeton.isnull().any(axis=1)]\n",
    "df_only_reggaeton_missing.head()"
   ]
  },
  {
   "cell_type": "code",
   "execution_count": 12,
   "metadata": {},
   "outputs": [
    {
     "data": {
      "text/html": [
       "<div>\n",
       "<table border=\"1\" class=\"dataframe\">\n",
       "  <thead>\n",
       "    <tr style=\"text-align: right;\">\n",
       "      <th></th>\n",
       "      <th>popularity</th>\n",
       "      <th>danceability</th>\n",
       "      <th>energy</th>\n",
       "      <th>key</th>\n",
       "      <th>loudness</th>\n",
       "      <th>mode</th>\n",
       "      <th>speechiness</th>\n",
       "      <th>acousticness</th>\n",
       "      <th>instrumentalness</th>\n",
       "      <th>liveness</th>\n",
       "      <th>valence</th>\n",
       "      <th>tempo</th>\n",
       "      <th>duration</th>\n",
       "      <th>time_signature</th>\n",
       "      <th>id_new</th>\n",
       "    </tr>\n",
       "  </thead>\n",
       "  <tbody>\n",
       "    <tr>\n",
       "      <th>382</th>\n",
       "      <td>NaN</td>\n",
       "      <td>NaN</td>\n",
       "      <td>NaN</td>\n",
       "      <td>NaN</td>\n",
       "      <td>NaN</td>\n",
       "      <td>NaN</td>\n",
       "      <td>NaN</td>\n",
       "      <td>NaN</td>\n",
       "      <td>NaN</td>\n",
       "      <td>NaN</td>\n",
       "      <td>NaN</td>\n",
       "      <td>NaN</td>\n",
       "      <td>NaN</td>\n",
       "      <td>NaN</td>\n",
       "      <td>452</td>\n",
       "    </tr>\n",
       "    <tr>\n",
       "      <th>702</th>\n",
       "      <td>0.0</td>\n",
       "      <td>NaN</td>\n",
       "      <td>NaN</td>\n",
       "      <td>NaN</td>\n",
       "      <td>NaN</td>\n",
       "      <td>NaN</td>\n",
       "      <td>NaN</td>\n",
       "      <td>NaN</td>\n",
       "      <td>NaN</td>\n",
       "      <td>NaN</td>\n",
       "      <td>NaN</td>\n",
       "      <td>NaN</td>\n",
       "      <td>NaN</td>\n",
       "      <td>NaN</td>\n",
       "      <td>772</td>\n",
       "    </tr>\n",
       "    <tr>\n",
       "      <th>1079</th>\n",
       "      <td>0.0</td>\n",
       "      <td>NaN</td>\n",
       "      <td>NaN</td>\n",
       "      <td>NaN</td>\n",
       "      <td>NaN</td>\n",
       "      <td>NaN</td>\n",
       "      <td>NaN</td>\n",
       "      <td>NaN</td>\n",
       "      <td>NaN</td>\n",
       "      <td>NaN</td>\n",
       "      <td>NaN</td>\n",
       "      <td>NaN</td>\n",
       "      <td>NaN</td>\n",
       "      <td>NaN</td>\n",
       "      <td>1149</td>\n",
       "    </tr>\n",
       "    <tr>\n",
       "      <th>1321</th>\n",
       "      <td>0.0</td>\n",
       "      <td>NaN</td>\n",
       "      <td>NaN</td>\n",
       "      <td>NaN</td>\n",
       "      <td>NaN</td>\n",
       "      <td>NaN</td>\n",
       "      <td>NaN</td>\n",
       "      <td>NaN</td>\n",
       "      <td>NaN</td>\n",
       "      <td>NaN</td>\n",
       "      <td>NaN</td>\n",
       "      <td>NaN</td>\n",
       "      <td>NaN</td>\n",
       "      <td>NaN</td>\n",
       "      <td>1391</td>\n",
       "    </tr>\n",
       "    <tr>\n",
       "      <th>1324</th>\n",
       "      <td>0.0</td>\n",
       "      <td>NaN</td>\n",
       "      <td>NaN</td>\n",
       "      <td>NaN</td>\n",
       "      <td>NaN</td>\n",
       "      <td>NaN</td>\n",
       "      <td>NaN</td>\n",
       "      <td>NaN</td>\n",
       "      <td>NaN</td>\n",
       "      <td>NaN</td>\n",
       "      <td>NaN</td>\n",
       "      <td>NaN</td>\n",
       "      <td>NaN</td>\n",
       "      <td>NaN</td>\n",
       "      <td>1394</td>\n",
       "    </tr>\n",
       "  </tbody>\n",
       "</table>\n",
       "</div>"
      ],
      "text/plain": [
       "      popularity  danceability  energy  key  loudness  mode  speechiness  \\\n",
       "382          NaN           NaN     NaN  NaN       NaN   NaN          NaN   \n",
       "702          0.0           NaN     NaN  NaN       NaN   NaN          NaN   \n",
       "1079         0.0           NaN     NaN  NaN       NaN   NaN          NaN   \n",
       "1321         0.0           NaN     NaN  NaN       NaN   NaN          NaN   \n",
       "1324         0.0           NaN     NaN  NaN       NaN   NaN          NaN   \n",
       "\n",
       "      acousticness  instrumentalness  liveness  valence  tempo  duration  \\\n",
       "382            NaN               NaN       NaN      NaN    NaN       NaN   \n",
       "702            NaN               NaN       NaN      NaN    NaN       NaN   \n",
       "1079           NaN               NaN       NaN      NaN    NaN       NaN   \n",
       "1321           NaN               NaN       NaN      NaN    NaN       NaN   \n",
       "1324           NaN               NaN       NaN      NaN    NaN       NaN   \n",
       "\n",
       "      time_signature  id_new  \n",
       "382              NaN     452  \n",
       "702              NaN     772  \n",
       "1079             NaN    1149  \n",
       "1321             NaN    1391  \n",
       "1324             NaN    1394  "
      ]
     },
     "execution_count": 12,
     "metadata": {},
     "output_type": "execute_result"
    }
   ],
   "source": [
    "df_all_types_missing = df_all_types[df_all_types.isnull().any(axis=1)]\n",
    "df_all_types_missing.head()"
   ]
  },
  {
   "cell_type": "markdown",
   "metadata": {},
   "source": [
    "* Luego, se procede a eliminar las filas que contengan como minimimo un NA/NaN\n",
    "* Asimismo, se procede a eliminar la columna 'id_new' ya que esta no presenta mayor utilidad.\n",
    "* Finalmente, se procede a eliminar la columna 'time_signature' del df_all_types ya que esta no esta presente en el df_only_reggaeton"
   ]
  },
  {
   "cell_type": "code",
   "execution_count": 13,
   "metadata": {},
   "outputs": [],
   "source": [
    "df_only_reggaeton_cleaned = df_only_reggaeton.dropna()\n",
    "df_all_types_cleaned = df_all_types.dropna()\n",
    "df_test_cleaned = df_test.dropna()\n",
    "\n",
    "del df_only_reggaeton_cleaned['id_new']\n",
    "del df_all_types_cleaned['id_new']\n",
    "del df_test_cleaned['id_new']\n",
    "\n",
    "del df_all_types_cleaned['time_signature']\n",
    "del df_test_cleaned['time_signature']"
   ]
  },
  {
   "cell_type": "markdown",
   "metadata": {},
   "source": [
    "### 1.3- Matriz de correlación entre las variables que definen una canción de reggaeton"
   ]
  },
  {
   "cell_type": "code",
   "execution_count": 14,
   "metadata": {},
   "outputs": [
    {
     "data": {
      "image/png": "[encoded data removed]",
      "text/plain": [
       "<matplotlib.figure.Figure at 0x7f4b621bfac8>"
      ]
     },
     "metadata": {},
     "output_type": "display_data"
    }
   ],
   "source": [
    "correlation_matrix_only_reggaeton = df_only_reggaeton_cleaned.corr()\n",
    "plt.figure(figsize=(10,8))\n",
    "ax = sns.heatmap(correlation_matrix_only_reggaeton, vmax=1, square=True,annot=True,cmap='RdYlGn')\n",
    "plt.title('Correlation matrix between the features')\n",
    "plt.show()"
   ]
  },
  {
   "cell_type": "markdown",
   "metadata": {},
   "source": [
    "### 1.4- Exploración rápida de variables"
   ]
  },
  {
   "cell_type": "markdown",
   "metadata": {},
   "source": [
    "#### 1.4.1- Exploración variables df_all_types_cleaned"
   ]
  },
  {
   "cell_type": "code",
   "execution_count": 15,
   "metadata": {},
   "outputs": [
    {
     "data": {
      "text/plain": [
       "array([[<matplotlib.axes._subplots.AxesSubplot object at 0x7f4b5c627be0>,\n",
       "        <matplotlib.axes._subplots.AxesSubplot object at 0x7f4b5c5c1a58>,\n",
       "        <matplotlib.axes._subplots.AxesSubplot object at 0x7f4b5ac0b2b0>,\n",
       "        <matplotlib.axes._subplots.AxesSubplot object at 0x7f4b5abc1710>],\n",
       "       [<matplotlib.axes._subplots.AxesSubplot object at 0x7f4b5ab20400>,\n",
       "        <matplotlib.axes._subplots.AxesSubplot object at 0x7f4b5ab20438>,\n",
       "        <matplotlib.axes._subplots.AxesSubplot object at 0x7f4b5aa675c0>,\n",
       "        <matplotlib.axes._subplots.AxesSubplot object at 0x7f4b5a9de4e0>],\n",
       "       [<matplotlib.axes._subplots.AxesSubplot object at 0x7f4b5a9b4ef0>,\n",
       "        <matplotlib.axes._subplots.AxesSubplot object at 0x7f4b5a9300b8>,\n",
       "        <matplotlib.axes._subplots.AxesSubplot object at 0x7f4b5a89a2b0>,\n",
       "        <matplotlib.axes._subplots.AxesSubplot object at 0x7f4b5a852ac8>],\n",
       "       [<matplotlib.axes._subplots.AxesSubplot object at 0x7f4b5a7e2860>,\n",
       "        <matplotlib.axes._subplots.AxesSubplot object at 0x7f4b5a7f3e80>,\n",
       "        <matplotlib.axes._subplots.AxesSubplot object at 0x7f4b5a730240>,\n",
       "        <matplotlib.axes._subplots.AxesSubplot object at 0x7f4b5a692048>]], dtype=object)"
      ]
     },
     "execution_count": 15,
     "metadata": {},
     "output_type": "execute_result"
    },
    {
     "data": {
      "image/png": "[encoded data removed]",
      "text/plain": [
       "<matplotlib.figure.Figure at 0x7f4b620f1780>"
      ]
     },
     "metadata": {},
     "output_type": "display_data"
    }
   ],
   "source": [
    "df_all_types_cleaned.hist()"
   ]
  },
  {
   "cell_type": "markdown",
   "metadata": {},
   "source": [
    "#### 1.4.2- Exploración variables df_only_reggaeton_cleaned"
   ]
  },
  {
   "cell_type": "code",
   "execution_count": 16,
   "metadata": {},
   "outputs": [
    {
     "data": {
      "text/plain": [
       "array([[<matplotlib.axes._subplots.AxesSubplot object at 0x7f4b5a2f2a90>,\n",
       "        <matplotlib.axes._subplots.AxesSubplot object at 0x7f4b5a3021d0>,\n",
       "        <matplotlib.axes._subplots.AxesSubplot object at 0x7f4b5a2ad5c0>,\n",
       "        <matplotlib.axes._subplots.AxesSubplot object at 0x7f4b5a282668>],\n",
       "       [<matplotlib.axes._subplots.AxesSubplot object at 0x7f4b5a23ca90>,\n",
       "        <matplotlib.axes._subplots.AxesSubplot object at 0x7f4b5a23c7b8>,\n",
       "        <matplotlib.axes._subplots.AxesSubplot object at 0x7f4b5a1627b8>,\n",
       "        <matplotlib.axes._subplots.AxesSubplot object at 0x7f4b5a0a0518>],\n",
       "       [<matplotlib.axes._subplots.AxesSubplot object at 0x7f4b5a080320>,\n",
       "        <matplotlib.axes._subplots.AxesSubplot object at 0x7f4b59fe6f98>,\n",
       "        <matplotlib.axes._subplots.AxesSubplot object at 0x7f4b59f4c978>,\n",
       "        <matplotlib.axes._subplots.AxesSubplot object at 0x7f4b59ec6c50>],\n",
       "       [<matplotlib.axes._subplots.AxesSubplot object at 0x7f4b59eaabe0>,\n",
       "        <matplotlib.axes._subplots.AxesSubplot object at 0x7f4b59e69550>,\n",
       "        <matplotlib.axes._subplots.AxesSubplot object at 0x7f4b59dfa1d0>,\n",
       "        <matplotlib.axes._subplots.AxesSubplot object at 0x7f4b59d88710>]], dtype=object)"
      ]
     },
     "execution_count": 16,
     "metadata": {},
     "output_type": "execute_result"
    },
    {
     "data": {
      "image/png": "[encoded data removed]",
      "text/plain": [
       "<matplotlib.figure.Figure at 0x7f4b5a2eda90>"
      ]
     },
     "metadata": {},
     "output_type": "display_data"
    }
   ],
   "source": [
    "df_only_reggaeton_cleaned.hist()"
   ]
  },
  {
   "cell_type": "markdown",
   "metadata": {},
   "source": [
    "## 02- Unir datasets y retornar un csv a output/P2-alldatasets.csv"
   ]
  },
  {
   "cell_type": "markdown",
   "metadata": {},
   "source": [
    "* En este paso se unen ambos datasets los cuales están cargados en memoria a través de la estructura de dato DataFrames."
   ]
  },
  {
   "cell_type": "code",
   "execution_count": 17,
   "metadata": {},
   "outputs": [
    {
     "name": "stderr",
     "output_type": "stream",
     "text": [
      "/opt/conda/lib/python3.6/site-packages/ipykernel_launcher.py:1: SettingWithCopyWarning: \n",
      "A value is trying to be set on a copy of a slice from a DataFrame.\n",
      "Try using .loc[row_indexer,col_indexer] = value instead\n",
      "\n",
      "See the caveats in the documentation: http://pandas.pydata.org/pandas-docs/stable/indexing.html#indexing-view-versus-copy\n",
      "  \"\"\"Entry point for launching an IPython kernel.\n"
     ]
    }
   ],
   "source": [
    "df_all_types_cleaned['marca_reggaeton'] = 0\n",
    "df_only_reggaeton_cleaned['marca_reggaeton'] = 1\n",
    "\n",
    "df_all_set_clean = pd.concat([df_all_types_cleaned,df_only_reggaeton_cleaned],ignore_index=True)\n",
    "df_all_set_clean.to_csv('output/P2-all_datasets.csv', sep=',')"
   ]
  },
  {
   "cell_type": "markdown",
   "metadata": {},
   "source": [
    "## 03- Entrenamiento de modelos"
   ]
  },
  {
   "cell_type": "markdown",
   "metadata": {},
   "source": [
    "#### 3.1- Selección del dataset para entrenamiento"
   ]
  },
  {
   "cell_type": "code",
   "execution_count": 18,
   "metadata": {},
   "outputs": [],
   "source": [
    "df_train = df_all_set_clean"
   ]
  },
  {
   "cell_type": "markdown",
   "metadata": {},
   "source": [
    "### 3.1- Selección de modelos"
   ]
  },
  {
   "cell_type": "markdown",
   "metadata": {},
   "source": [
    "* Para seleccionar los modelos a entrenar primero utilizo una estrategia de procesamiento bash, el cual me va a permitir saber de antemano cuales modelos son los que mejor rinden.\n",
    "* Para esto se guarda en un diccionario todos los modelos ya declarados para luego realizar todo el procesamiento asociado."
   ]
  },
  {
   "cell_type": "code",
   "execution_count": 19,
   "metadata": {},
   "outputs": [],
   "source": [
    "dict_classifiers = {\n",
    "    \"Logistic Regression\": LogisticRegression(),\n",
    "    \"Nearest Neighbors\": KNeighborsClassifier(),\n",
    "    \"Linear SVM\": SVC(),\n",
    "    \"Gradient Boosting Classifier\": GradientBoostingClassifier(),\n",
    "    \"Decision Tree\": tree.DecisionTreeClassifier(),\n",
    "    \"Random Forest\": RandomForestClassifier(n_estimators = 18),\n",
    "    \"Neural Net\": MLPClassifier(alpha = 1),\n",
    "    \"Naive Bayes\": GaussianNB()\n",
    "}"
   ]
  },
  {
   "cell_type": "code",
   "execution_count": 20,
   "metadata": {},
   "outputs": [],
   "source": [
    "def get_train_test(df, y_col, ratio):\n",
    "    mask = np.random.rand(len(df)) < ratio\n",
    "    df_train = df[mask]\n",
    "    df_test = df[~mask]\n",
    "    \n",
    "    Y_train = df_train[y_col].values\n",
    "    Y_test = df_test[y_col].values\n",
    "    del df_train[y_col]\n",
    "    del df_test[y_col]\n",
    " \n",
    "    X_train = df_train.values\n",
    "    X_test = df_test.values\n",
    "    return X_train, Y_train, X_test, Y_test\n",
    " \n",
    "y_col = 'marca_reggaeton'\n",
    "train_test_ratio = 0.7\n",
    "X_train, Y_train, X_test, Y_test = get_train_test(df_train, y_col, train_test_ratio)"
   ]
  },
  {
   "cell_type": "markdown",
   "metadata": {},
   "source": [
    "### 3.2- Entrenamiento via un proceso batch"
   ]
  },
  {
   "cell_type": "markdown",
   "metadata": {},
   "source": [
    "* Se crea una función la cual es llamada para realizar el proceso batch.\n",
    "* El método score() retorna el resultado del método accuracy_score() el cual está incluido en el módulo metrics de sciki-learn. "
   ]
  },
  {
   "cell_type": "code",
   "execution_count": 21,
   "metadata": {},
   "outputs": [],
   "source": [
    "no_classifiers = len(dict_classifiers.keys())\n",
    "\n",
    "def batch_classify(X_train, Y_train, X_test, Y_test, verbose = True):\n",
    "    df_results = pd.DataFrame(data=np.zeros(shape=(no_classifiers,4)), columns = ['classifier', 'train_score', 'test_score', 'training_time'])\n",
    "    count = 0\n",
    "    for key, classifier in dict_classifiers.items():\n",
    "        t_start = time.clock()\n",
    "        classifier.fit(X_train, Y_train)\n",
    "        t_end = time.clock()\n",
    "        t_diff = t_end - t_start\n",
    "        train_score = classifier.score(X_train, Y_train)\n",
    "        test_score = classifier.score(X_test, Y_test)\n",
    "        df_results.loc[count,'classifier'] = key\n",
    "        df_results.loc[count,'train_score'] = train_score\n",
    "        df_results.loc[count,'test_score'] = test_score\n",
    "        df_results.loc[count,'training_time'] = t_diff\n",
    "        if verbose:\n",
    "            print(\"trained {c} in {f:.2f} s\".format(c=key, f=t_diff))\n",
    "        count+=1\n",
    "    return df_results"
   ]
  },
  {
   "cell_type": "code",
   "execution_count": 22,
   "metadata": {},
   "outputs": [
    {
     "name": "stdout",
     "output_type": "stream",
     "text": [
      "trained Logistic Regression in 0.01 s\n",
      "trained Nearest Neighbors in 0.01 s\n",
      "trained Linear SVM in 0.47 s\n",
      "trained Gradient Boosting Classifier in 0.14 s\n",
      "trained Decision Tree in 0.01 s\n",
      "trained Random Forest in 0.03 s\n",
      "trained Neural Net in 3.33 s\n",
      "trained Naive Bayes in 0.01 s\n"
     ]
    },
    {
     "data": {
      "text/html": [
       "<div>\n",
       "<table border=\"1\" class=\"dataframe\">\n",
       "  <thead>\n",
       "    <tr style=\"text-align: right;\">\n",
       "      <th></th>\n",
       "      <th>classifier</th>\n",
       "      <th>train_score</th>\n",
       "      <th>test_score</th>\n",
       "      <th>training_time</th>\n",
       "    </tr>\n",
       "  </thead>\n",
       "  <tbody>\n",
       "    <tr>\n",
       "      <th>3</th>\n",
       "      <td>Gradient Boosting Classifier</td>\n",
       "      <td>1.000000</td>\n",
       "      <td>0.980243</td>\n",
       "      <td>0.143875</td>\n",
       "    </tr>\n",
       "    <tr>\n",
       "      <th>5</th>\n",
       "      <td>Random Forest</td>\n",
       "      <td>0.999388</td>\n",
       "      <td>0.974164</td>\n",
       "      <td>0.028967</td>\n",
       "    </tr>\n",
       "    <tr>\n",
       "      <th>0</th>\n",
       "      <td>Logistic Regression</td>\n",
       "      <td>0.971236</td>\n",
       "      <td>0.969605</td>\n",
       "      <td>0.005191</td>\n",
       "    </tr>\n",
       "    <tr>\n",
       "      <th>1</th>\n",
       "      <td>Nearest Neighbors</td>\n",
       "      <td>0.971236</td>\n",
       "      <td>0.969605</td>\n",
       "      <td>0.008452</td>\n",
       "    </tr>\n",
       "    <tr>\n",
       "      <th>2</th>\n",
       "      <td>Linear SVM</td>\n",
       "      <td>1.000000</td>\n",
       "      <td>0.969605</td>\n",
       "      <td>0.469732</td>\n",
       "    </tr>\n",
       "    <tr>\n",
       "      <th>6</th>\n",
       "      <td>Neural Net</td>\n",
       "      <td>0.969400</td>\n",
       "      <td>0.969605</td>\n",
       "      <td>3.329334</td>\n",
       "    </tr>\n",
       "    <tr>\n",
       "      <th>4</th>\n",
       "      <td>Decision Tree</td>\n",
       "      <td>1.000000</td>\n",
       "      <td>0.965046</td>\n",
       "      <td>0.009039</td>\n",
       "    </tr>\n",
       "    <tr>\n",
       "      <th>7</th>\n",
       "      <td>Naive Bayes</td>\n",
       "      <td>0.958384</td>\n",
       "      <td>0.958967</td>\n",
       "      <td>0.005702</td>\n",
       "    </tr>\n",
       "  </tbody>\n",
       "</table>\n",
       "</div>"
      ],
      "text/plain": [
       "                     classifier  train_score  test_score  training_time\n",
       "3  Gradient Boosting Classifier     1.000000    0.980243       0.143875\n",
       "5                 Random Forest     0.999388    0.974164       0.028967\n",
       "0           Logistic Regression     0.971236    0.969605       0.005191\n",
       "1             Nearest Neighbors     0.971236    0.969605       0.008452\n",
       "2                    Linear SVM     1.000000    0.969605       0.469732\n",
       "6                    Neural Net     0.969400    0.969605       3.329334\n",
       "4                 Decision Tree     1.000000    0.965046       0.009039\n",
       "7                   Naive Bayes     0.958384    0.958967       0.005702"
      ]
     },
     "metadata": {},
     "output_type": "display_data"
    }
   ],
   "source": [
    "df_results = batch_classify(X_train, Y_train, X_test, Y_test)\n",
    "display(df_results.sort_values(by='test_score', ascending=False))"
   ]
  },
  {
   "cell_type": "markdown",
   "metadata": {},
   "source": [
    "* En base a esto, se seleccionan el top 3 de los modelos previamente nombrados, los cuales son: **Gradient Boosting Classifier (GBC), Random Forest y Logistic Regression**."
   ]
  },
  {
   "cell_type": "markdown",
   "metadata": {},
   "source": [
    "### 3.3- Crear modelo Gradient Boosting Classifier (GBT)"
   ]
  },
  {
   "cell_type": "code",
   "execution_count": 23,
   "metadata": {},
   "outputs": [],
   "source": [
    "model_GBT = GradientBoostingClassifier()\n",
    "model_GBT.fit(X_train, Y_train)\n",
    "filename_model_GBT = 'output/P3-classification_isreggaeton_GBT.sav'\n",
    "pickle.dump(model_GBT, open(filename_model_GBT, 'wb'))"
   ]
  },
  {
   "cell_type": "code",
   "execution_count": 24,
   "metadata": {},
   "outputs": [
    {
     "name": "stdout",
     "output_type": "stream",
     "text": [
      "0.978723404255\n"
     ]
    }
   ],
   "source": [
    "# Cargar el modelo guardado en disco\n",
    "loaded_model = pickle.load(open(filename_model_GBT, 'rb'))\n",
    "# Para testing: cargar el modelo guardado\n",
    "result = loaded_model.score(X_test, Y_test)\n",
    "print(result)"
   ]
  },
  {
   "cell_type": "code",
   "execution_count": 25,
   "metadata": {},
   "outputs": [
    {
     "data": {
      "text/html": [
       "<div>\n",
       "<table border=\"1\" class=\"dataframe\">\n",
       "  <thead>\n",
       "    <tr style=\"text-align: right;\">\n",
       "      <th></th>\n",
       "      <th>marca_reggaeton</th>\n",
       "    </tr>\n",
       "  </thead>\n",
       "  <tbody>\n",
       "    <tr>\n",
       "      <th>46</th>\n",
       "      <td>0</td>\n",
       "    </tr>\n",
       "    <tr>\n",
       "      <th>47</th>\n",
       "      <td>0</td>\n",
       "    </tr>\n",
       "    <tr>\n",
       "      <th>48</th>\n",
       "      <td>0</td>\n",
       "    </tr>\n",
       "    <tr>\n",
       "      <th>49</th>\n",
       "      <td>0</td>\n",
       "    </tr>\n",
       "    <tr>\n",
       "      <th>50</th>\n",
       "      <td>0</td>\n",
       "    </tr>\n",
       "  </tbody>\n",
       "</table>\n",
       "</div>"
      ],
      "text/plain": [
       "    marca_reggaeton\n",
       "46                0\n",
       "47                0\n",
       "48                0\n",
       "49                0\n",
       "50                0"
      ]
     },
     "execution_count": 25,
     "metadata": {},
     "output_type": "execute_result"
    }
   ],
   "source": [
    "classification_GBT = model_GBT.predict(df_test_cleaned)\n",
    "df_classifications = pd.DataFrame({'marca_reggaeton':classification_GBT}) \n",
    "df_classifications.index += 1 \n",
    "df_classifications.tail()"
   ]
  },
  {
   "cell_type": "code",
   "execution_count": 26,
   "metadata": {},
   "outputs": [],
   "source": [
    "classification_probabilities_GBT = model_GBT.predict_proba(df_test_cleaned)\n",
    "data_GBT = pd.DataFrame(classification_probabilities_GBT)[1]\n",
    "\n",
    "df_classification_probabilities_GBT = pd.DataFrame({'probabilidad_reggaeton':data_GBT}) \n",
    "df_classification_probabilities_GBT.index += 1 \n",
    "\n",
    "df_GBT = df_classifications.join(df_classification_probabilities_GBT)\n",
    "df_GBT.tail()\n",
    "\n",
    "df_test_classificated_GBT = df_test_cleaned.join(df_GBT)\n",
    "df_test_classificated_GBT.to_csv('output/P5-test_dataset_classificated_GBT.csv', sep=',')"
   ]
  },
  {
   "cell_type": "markdown",
   "metadata": {},
   "source": [
    "#### 3.3.1- Evaluación del modelo GBT"
   ]
  },
  {
   "cell_type": "code",
   "execution_count": 27,
   "metadata": {},
   "outputs": [
    {
     "name": "stdout",
     "output_type": "stream",
     "text": [
      "[[633   5]\n",
      " [  9  11]]\n",
      "Misclassification Rate:  0.0212765957447\n",
      "Specificity:  0.992163009404\n",
      "False Positive Rate:  0.00783699059561\n",
      "                     precision    recall  f1-score   support\n",
      "\n",
      "marca_reggaeton = 0       0.99      0.99      0.99       638\n",
      "marca_reggaeton = 1       0.69      0.55      0.61        20\n",
      "\n",
      "        avg / total       0.98      0.98      0.98       658\n",
      "\n",
      "Accuracy:  0.978723404255\n",
      "ROC:  0.771081504702\n"
     ]
    }
   ],
   "source": [
    "y_pred_class = model_GBT.predict(X_test)\n",
    "y_pred_prob= model_GBT.predict_proba(X_test)\n",
    "\n",
    "print(metrics.confusion_matrix(Y_test, y_pred_class))\n",
    "\n",
    "confusion = metrics.confusion_matrix(Y_test, y_pred_class)\n",
    "TP = confusion[1, 1]\n",
    "TN = confusion[0, 0]\n",
    "FP = confusion[0, 1]\n",
    "FN = confusion[1, 0]\n",
    "\n",
    "print(\"Misclassification Rate: \", 1 - metrics.accuracy_score(Y_test, y_pred_class))\n",
    "print(\"Specificity: \", TN / float(TN + FP))\n",
    "print(\"False Positive Rate: \", FP / float(TN + FP))\n",
    "\n",
    "from sklearn import metrics\n",
    "target_names = ['marca_reggaeton = 0', 'marca_reggaeton = 1']\n",
    "print(metrics.classification_report(Y_test, y_pred_class, target_names=target_names))\n",
    "print (\"Accuracy: \", metrics.accuracy_score(Y_test, y_pred_class))\n",
    "print (\"ROC: \", metrics.roc_auc_score(Y_test, y_pred_class))"
   ]
  },
  {
   "cell_type": "code",
   "execution_count": 28,
   "metadata": {},
   "outputs": [
    {
     "data": {
      "image/png": "[encoded data removed]",
      "text/plain": [
       "<matplotlib.figure.Figure at 0x7f4b599f4630>"
      ]
     },
     "metadata": {},
     "output_type": "display_data"
    }
   ],
   "source": [
    "fpr, tpr, thresholds = metrics.roc_curve(Y_test, Y_test)\n",
    "plt.plot(fpr, tpr)\n",
    "plt.xlim([0.0, 1.0])\n",
    "plt.ylim([0.0, 1.0])\n",
    "plt.title('ROC curve for diabetes classifier')\n",
    "plt.xlabel('False Positive Rate (1 - Specificity)')\n",
    "plt.ylabel('True Positive Rate (Sensitivity)')\n",
    "plt.grid(True)"
   ]
  },
  {
   "cell_type": "markdown",
   "metadata": {},
   "source": [
    "### 3.4-  Crear modelo Random Forest"
   ]
  },
  {
   "cell_type": "code",
   "execution_count": 29,
   "metadata": {},
   "outputs": [
    {
     "name": "stdout",
     "output_type": "stream",
     "text": [
      "0.978723404255\n"
     ]
    }
   ],
   "source": [
    "model_RANDOMFOREST = RandomForestClassifier(n_estimators = 18)\n",
    "model_RANDOMFOREST.fit(X_train, Y_train)\n",
    "filename_model_RANDOMFOREST = 'output/P3-classification_isreggaeton_RANDOMFOREST.sav'\n",
    "pickle.dump(model_RANDOMFOREST, open(filename_model_RANDOMFOREST, 'wb'))\n",
    "# Testing: cargar el modelo guardado en disco\n",
    "loaded_model = pickle.load(open(filename_model_RANDOMFOREST, 'rb'))\n",
    "result = loaded_model.score(X_test, Y_test)\n",
    "print(result)"
   ]
  },
  {
   "cell_type": "code",
   "execution_count": 30,
   "metadata": {},
   "outputs": [
    {
     "data": {
      "text/html": [
       "<div>\n",
       "<table border=\"1\" class=\"dataframe\">\n",
       "  <thead>\n",
       "    <tr style=\"text-align: right;\">\n",
       "      <th></th>\n",
       "      <th>marca_reggaeton</th>\n",
       "    </tr>\n",
       "  </thead>\n",
       "  <tbody>\n",
       "    <tr>\n",
       "      <th>46</th>\n",
       "      <td>0</td>\n",
       "    </tr>\n",
       "    <tr>\n",
       "      <th>47</th>\n",
       "      <td>0</td>\n",
       "    </tr>\n",
       "    <tr>\n",
       "      <th>48</th>\n",
       "      <td>0</td>\n",
       "    </tr>\n",
       "    <tr>\n",
       "      <th>49</th>\n",
       "      <td>0</td>\n",
       "    </tr>\n",
       "    <tr>\n",
       "      <th>50</th>\n",
       "      <td>0</td>\n",
       "    </tr>\n",
       "  </tbody>\n",
       "</table>\n",
       "</div>"
      ],
      "text/plain": [
       "    marca_reggaeton\n",
       "46                0\n",
       "47                0\n",
       "48                0\n",
       "49                0\n",
       "50                0"
      ]
     },
     "execution_count": 30,
     "metadata": {},
     "output_type": "execute_result"
    }
   ],
   "source": [
    "classification_RANDOMFOREST = model_RANDOMFOREST.predict(df_test_cleaned)\n",
    "df_classifications = pd.DataFrame({'marca_reggaeton':classification_RANDOMFOREST}) \n",
    "df_classifications.index += 1 \n",
    "df_classifications.head()\n",
    "df_classifications.tail()"
   ]
  },
  {
   "cell_type": "code",
   "execution_count": 31,
   "metadata": {},
   "outputs": [],
   "source": [
    "classification_probabilities_RANDOMFOREST = model_RANDOMFOREST.predict_proba(df_test_cleaned)\n",
    "data_RANDOMFOREST = pd.DataFrame(classification_probabilities_RANDOMFOREST)[1]\n",
    "df_classification_probabilities_RANDOMFOREST = pd.DataFrame({'probabilidad_reggaeton':data_RANDOMFOREST}) \n",
    "df_classification_probabilities_RANDOMFOREST.index += 1 \n",
    "df_RANDOMFOREST = df_classifications.join(df_classification_probabilities_RANDOMFOREST)\n",
    "df_RANDOMFOREST.tail()\n",
    "\n",
    "df_test_classificated_RANDOMFOREST = df_test_cleaned.join(df_RANDOMFOREST)\n",
    "df_test_classificated_RANDOMFOREST.to_csv('output/P5-test_dataset_classificated_RANDOMFOREST.csv', sep=',')"
   ]
  },
  {
   "cell_type": "markdown",
   "metadata": {},
   "source": [
    "#### 3.4.1- Evaluación del modelo Random Forest"
   ]
  },
  {
   "cell_type": "code",
   "execution_count": 32,
   "metadata": {},
   "outputs": [
    {
     "name": "stdout",
     "output_type": "stream",
     "text": [
      "[[638   0]\n",
      " [ 14   6]]\n",
      "Misclassification Rate:  0.0212765957447\n",
      "Specificity:  1.0\n",
      "False Positive Rate:  0.0\n",
      "                     precision    recall  f1-score   support\n",
      "\n",
      "marca_reggaeton = 0       0.98      1.00      0.99       638\n",
      "marca_reggaeton = 1       1.00      0.30      0.46        20\n",
      "\n",
      "        avg / total       0.98      0.98      0.97       658\n",
      "\n",
      "Accuracy:  0.978723404255\n",
      "ROC:  0.65\n"
     ]
    }
   ],
   "source": [
    "y_pred_class = model_RANDOMFOREST.predict(X_test)\n",
    "y_pred_prob= model_RANDOMFOREST.predict_proba(X_test)\n",
    "\n",
    "print(metrics.confusion_matrix(Y_test, y_pred_class))\n",
    "\n",
    "confusion = metrics.confusion_matrix(Y_test, y_pred_class)\n",
    "TP = confusion[1, 1]\n",
    "TN = confusion[0, 0]\n",
    "FP = confusion[0, 1]\n",
    "FN = confusion[1, 0]\n",
    "\n",
    "print(\"Misclassification Rate: \", 1 - metrics.accuracy_score(Y_test, y_pred_class))\n",
    "print(\"Specificity: \", TN / float(TN + FP))\n",
    "print(\"False Positive Rate: \", FP / float(TN + FP))\n",
    "\n",
    "from sklearn import metrics\n",
    "target_names = ['marca_reggaeton = 0', 'marca_reggaeton = 1']\n",
    "print(metrics.classification_report(Y_test, y_pred_class, target_names=target_names))\n",
    "print (\"Accuracy: \", metrics.accuracy_score(Y_test, y_pred_class))\n",
    "print (\"ROC: \", metrics.roc_auc_score(Y_test, y_pred_class))"
   ]
  },
  {
   "cell_type": "markdown",
   "metadata": {},
   "source": [
    "### 3.5-  Crear modelo por regresión logistica"
   ]
  },
  {
   "cell_type": "code",
   "execution_count": 33,
   "metadata": {},
   "outputs": [],
   "source": [
    "model_LR = LogisticRegression()\n",
    "model_LR.fit(X_train, Y_train)\n",
    "\n",
    "y_pred_class = model_LR.predict(X_test)\n",
    "\n",
    "filename_model_LR = 'output/P3-classification_isreggaeton_LR.sav'\n",
    "pickle.dump(model_LR, open(filename_model_LR, 'wb'))"
   ]
  },
  {
   "cell_type": "code",
   "execution_count": 34,
   "metadata": {},
   "outputs": [
    {
     "name": "stdout",
     "output_type": "stream",
     "text": [
      "0.969604863222\n"
     ]
    }
   ],
   "source": [
    "# Cargar el modelo almacenado en disco\n",
    "loaded_model = pickle.load(open(filename_model_LR, 'rb'))\n",
    "# Testing: verificar el modelo con el conjunto de prueba\n",
    "result = loaded_model.score(X_test, Y_test)\n",
    "print(result)"
   ]
  },
  {
   "cell_type": "code",
   "execution_count": 35,
   "metadata": {},
   "outputs": [
    {
     "data": {
      "text/html": [
       "<div>\n",
       "<table border=\"1\" class=\"dataframe\">\n",
       "  <thead>\n",
       "    <tr style=\"text-align: right;\">\n",
       "      <th></th>\n",
       "      <th>marca_reggaeton</th>\n",
       "    </tr>\n",
       "  </thead>\n",
       "  <tbody>\n",
       "    <tr>\n",
       "      <th>46</th>\n",
       "      <td>0</td>\n",
       "    </tr>\n",
       "    <tr>\n",
       "      <th>47</th>\n",
       "      <td>0</td>\n",
       "    </tr>\n",
       "    <tr>\n",
       "      <th>48</th>\n",
       "      <td>0</td>\n",
       "    </tr>\n",
       "    <tr>\n",
       "      <th>49</th>\n",
       "      <td>0</td>\n",
       "    </tr>\n",
       "    <tr>\n",
       "      <th>50</th>\n",
       "      <td>0</td>\n",
       "    </tr>\n",
       "  </tbody>\n",
       "</table>\n",
       "</div>"
      ],
      "text/plain": [
       "    marca_reggaeton\n",
       "46                0\n",
       "47                0\n",
       "48                0\n",
       "49                0\n",
       "50                0"
      ]
     },
     "execution_count": 35,
     "metadata": {},
     "output_type": "execute_result"
    }
   ],
   "source": [
    "classification_LR = model_LR.predict(df_test_cleaned)\n",
    "df_classifications = pd.DataFrame({'marca_reggaeton':classification_LR}) \n",
    "df_classifications.index += 1 \n",
    "df_classifications.head()\n",
    "df_classifications.tail()"
   ]
  },
  {
   "cell_type": "code",
   "execution_count": 36,
   "metadata": {},
   "outputs": [
    {
     "data": {
      "text/html": [
       "<div>\n",
       "<table border=\"1\" class=\"dataframe\">\n",
       "  <thead>\n",
       "    <tr style=\"text-align: right;\">\n",
       "      <th></th>\n",
       "      <th>marca_reggaeton</th>\n",
       "      <th>probabilidad_reggaeton</th>\n",
       "    </tr>\n",
       "  </thead>\n",
       "  <tbody>\n",
       "    <tr>\n",
       "      <th>46</th>\n",
       "      <td>0</td>\n",
       "      <td>0.014807</td>\n",
       "    </tr>\n",
       "    <tr>\n",
       "      <th>47</th>\n",
       "      <td>0</td>\n",
       "      <td>0.003253</td>\n",
       "    </tr>\n",
       "    <tr>\n",
       "      <th>48</th>\n",
       "      <td>0</td>\n",
       "      <td>0.029271</td>\n",
       "    </tr>\n",
       "    <tr>\n",
       "      <th>49</th>\n",
       "      <td>0</td>\n",
       "      <td>0.011356</td>\n",
       "    </tr>\n",
       "    <tr>\n",
       "      <th>50</th>\n",
       "      <td>0</td>\n",
       "      <td>0.029606</td>\n",
       "    </tr>\n",
       "  </tbody>\n",
       "</table>\n",
       "</div>"
      ],
      "text/plain": [
       "    marca_reggaeton  probabilidad_reggaeton\n",
       "46                0                0.014807\n",
       "47                0                0.003253\n",
       "48                0                0.029271\n",
       "49                0                0.011356\n",
       "50                0                0.029606"
      ]
     },
     "execution_count": 36,
     "metadata": {},
     "output_type": "execute_result"
    }
   ],
   "source": [
    "classification_probabilities_LR = model_LR.predict_proba(df_test_cleaned)\n",
    "data_LR = pd.DataFrame(classification_probabilities_LR)[1]\n",
    "df_classification_probabilities_LR = pd.DataFrame({'probabilidad_reggaeton':data_LR}) \n",
    "df_classification_probabilities_LR.index += 1 \n",
    "df_LR = df_classifications.join(df_classification_probabilities_LR)\n",
    "df_LR.tail()"
   ]
  },
  {
   "cell_type": "code",
   "execution_count": 37,
   "metadata": {},
   "outputs": [],
   "source": [
    "df_test_classificated_LR = df_test_cleaned.join(df_LR)\n",
    "df_test_classificated_LR.to_csv('output/P5-test_dataset_classificated_LR.csv', sep=',')"
   ]
  },
  {
   "cell_type": "markdown",
   "metadata": {},
   "source": [
    "#### 3.5- Evaluación del modelo LR"
   ]
  },
  {
   "cell_type": "code",
   "execution_count": 38,
   "metadata": {},
   "outputs": [
    {
     "name": "stdout",
     "output_type": "stream",
     "text": [
      "[[638   0]\n",
      " [ 20   0]]\n",
      "Misclassification Rate:  0.0303951367781\n",
      "Specificity:  1.0\n",
      "False Positive Rate:  0.0\n",
      "                     precision    recall  f1-score   support\n",
      "\n",
      "marca_reggaeton = 0       0.97      1.00      0.98       638\n",
      "marca_reggaeton = 1       0.00      0.00      0.00        20\n",
      "\n",
      "        avg / total       0.94      0.97      0.95       658\n",
      "\n",
      "Accuracy:  0.969604863222\n",
      "ROC:  0.5\n"
     ]
    },
    {
     "name": "stderr",
     "output_type": "stream",
     "text": [
      "/opt/conda/lib/python3.6/site-packages/sklearn/metrics/classification.py:1113: UndefinedMetricWarning: Precision and F-score are ill-defined and being set to 0.0 in labels with no predicted samples.\n",
      "  'precision', 'predicted', average, warn_for)\n"
     ]
    }
   ],
   "source": [
    "print(metrics.confusion_matrix(Y_test, y_pred_class))\n",
    "\n",
    "confusion = metrics.confusion_matrix(Y_test, y_pred_class)\n",
    "TP = confusion[1, 1]\n",
    "TN = confusion[0, 0]\n",
    "FP = confusion[0, 1]\n",
    "FN = confusion[1, 0]\n",
    "\n",
    "print(\"Misclassification Rate: \", 1 - metrics.accuracy_score(Y_test, y_pred_class))\n",
    "print(\"Specificity: \", TN / float(TN + FP))\n",
    "print(\"False Positive Rate: \", FP / float(TN + FP))\n",
    "\n",
    "y_pred_class = model_LR.predict(X_test)\n",
    "y_pred_prob= model_LR.predict_proba(X_test)\n",
    "\n",
    "from sklearn import metrics\n",
    "target_names = ['marca_reggaeton = 0', 'marca_reggaeton = 1']\n",
    "print(metrics.classification_report(Y_test, y_pred_class, target_names=target_names))\n",
    "print (\"Accuracy: \", metrics.accuracy_score(Y_test, y_pred_class))\n",
    "print (\"ROC: \", metrics.roc_auc_score(Y_test, y_pred_class))"
   ]
  },
  {
   "cell_type": "markdown",
   "metadata": {},
   "source": [
    "## Glosario\n",
    "\n",
    "* True Positives (TP): we correctly predicted that they do have diabetes\n",
    "* True Negatives (TN): we correctly predicted that they don't have diabetes\n",
    "* False Positives (FP): we incorrectly predicted that they do have diabetes (a \"Type I error\")\n",
    "* False Negatives (FN): we incorrectly predicted that they don't have diabetes (a \"Type II error\")"
   ]
  },
  {
   "cell_type": "markdown",
   "metadata": {},
   "source": [
    "* Classification Accuracy: Overall, how often is the classifier correct?\n",
    "* Accuracy: para indicar cuan a menudo el clasificador esta correcto\n",
    "* Classification Error: Overall, how often is the classifier incorrect? \n",
    "* Also known as \"Misclassification Rate\"\n",
    "* Error en la clasificación: cada cuanto el clasificador esta incorrecto\n",
    "* Sensitivity: When the actual value is positive, how often is the prediction correct?\n",
    "* Sensitivity = True Posotive Rate = Recall = cuan a menudo la predicción es correcta\n",
    "* How \"sensitive\" is the classifier to detecting positive instances?\n",
    "* Also known as \"True Positive Rate\" or \"Recall\"\n",
    "* Specificity: When the actual value is negative, how often is the prediction correct?\n",
    "* How \"specific\" (or \"selective\") is the classifier in predicting positive instances?\n",
    "* False Positive Rate: When the actual value is negative, how often is the prediction incorrect?"
   ]
  },
  {
   "cell_type": "code",
   "execution_count": null,
   "metadata": {},
   "outputs": [],
   "source": []
  },
  {
   "cell_type": "code",
   "execution_count": null,
   "metadata": {},
   "outputs": [],
   "source": []
  }
 ],
 "metadata": {
  "kernelspec": {
   "display_name": "Python 3",
   "language": "python",
   "name": "python3"
  },
  "language_info": {
   "codemirror_mode": {
    "name": "ipython",
    "version": 3
   },
   "file_extension": ".py",
   "mimetype": "text/x-python",
   "name": "python",
   "nbconvert_exporter": "python",
   "pygments_lexer": "ipython3",
   "version": "3.6.3"
  }
 },
 "nbformat": 4,
 "nbformat_minor": 2
}
